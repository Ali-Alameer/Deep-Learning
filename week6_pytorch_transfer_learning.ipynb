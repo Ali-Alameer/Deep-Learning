{
 "nbformat": 4,
 "nbformat_minor": 0,
 "metadata": {
  "colab": {
   "provenance": [],
   "collapsed_sections": [
    "YO9TUAi68RVm",
    "Lgq4c3sV8jqG",
    "yQunruN8-1hL",
    "HzfzBnpm_XOO"
   ],
   "gpuType": "T4"
  },
  "kernelspec": {
   "name": "python3",
   "display_name": "Python 3"
  },
  "language_info": {
   "name": "python"
  },
  "accelerator": "GPU",
  "widgets": {
   "application/vnd.jupyter.widget-state+json": {
    "8a4f55549c374594b36b0233b7b8cf75": {
     "model_module": "@jupyter-widgets/controls",
     "model_name": "HBoxModel",
     "model_module_version": "1.5.0",
     "state": {
      "_dom_classes": [],
      "_model_module": "@jupyter-widgets/controls",
      "_model_module_version": "1.5.0",
      "_model_name": "HBoxModel",
      "_view_count": null,
      "_view_module": "@jupyter-widgets/controls",
      "_view_module_version": "1.5.0",
      "_view_name": "HBoxView",
      "box_style": "",
      "children": [
       "IPY_MODEL_cb1476d672c74bc69c69e709bdceb5c5",
       "IPY_MODEL_13cd8f345a9c420598449a8fe79297fe",
       "IPY_MODEL_92b8d9fa3789422dbd074184747ae767"
      ],
      "layout": "IPY_MODEL_1df0bb51be9e4cf7851a92c404c8d873"
     }
    },
    "cb1476d672c74bc69c69e709bdceb5c5": {
     "model_module": "@jupyter-widgets/controls",
     "model_name": "HTMLModel",
     "model_module_version": "1.5.0",
     "state": {
      "_dom_classes": [],
      "_model_module": "@jupyter-widgets/controls",
      "_model_module_version": "1.5.0",
      "_model_name": "HTMLModel",
      "_view_count": null,
      "_view_module": "@jupyter-widgets/controls",
      "_view_module_version": "1.5.0",
      "_view_name": "HTMLView",
      "description": "",
      "description_tooltip": null,
      "layout": "IPY_MODEL_c73994a5e07640059e2ec3db5db15f13",
      "placeholder": "​",
      "style": "IPY_MODEL_556f6339b3a747c1a553d3a656103086",
      "value": "  0%"
     }
    },
    "13cd8f345a9c420598449a8fe79297fe": {
     "model_module": "@jupyter-widgets/controls",
     "model_name": "FloatProgressModel",
     "model_module_version": "1.5.0",
     "state": {
      "_dom_classes": [],
      "_model_module": "@jupyter-widgets/controls",
      "_model_module_version": "1.5.0",
      "_model_name": "FloatProgressModel",
      "_view_count": null,
      "_view_module": "@jupyter-widgets/controls",
      "_view_module_version": "1.5.0",
      "_view_name": "ProgressView",
      "bar_style": "",
      "description": "",
      "description_tooltip": null,
      "layout": "IPY_MODEL_fd6634782a3445c997c38df02d74f02c",
      "max": 5,
      "min": 0,
      "orientation": "horizontal",
      "style": "IPY_MODEL_60948c6a7b85488dbcb038aab350ef55",
      "value": 0
     }
    },
    "92b8d9fa3789422dbd074184747ae767": {
     "model_module": "@jupyter-widgets/controls",
     "model_name": "HTMLModel",
     "model_module_version": "1.5.0",
     "state": {
      "_dom_classes": [],
      "_model_module": "@jupyter-widgets/controls",
      "_model_module_version": "1.5.0",
      "_model_name": "HTMLModel",
      "_view_count": null,
      "_view_module": "@jupyter-widgets/controls",
      "_view_module_version": "1.5.0",
      "_view_name": "HTMLView",
      "description": "",
      "description_tooltip": null,
      "layout": "IPY_MODEL_c1e787d3d61f467da51c06b346722c6b",
      "placeholder": "​",
      "style": "IPY_MODEL_626bc087b6284d58839d5214f984016c",
      "value": " 0/5 [00:00&lt;?, ?it/s]"
     }
    },
    "1df0bb51be9e4cf7851a92c404c8d873": {
     "model_module": "@jupyter-widgets/base",
     "model_name": "LayoutModel",
     "model_module_version": "1.2.0",
     "state": {
      "_model_module": "@jupyter-widgets/base",
      "_model_module_version": "1.2.0",
      "_model_name": "LayoutModel",
      "_view_count": null,
      "_view_module": "@jupyter-widgets/base",
      "_view_module_version": "1.2.0",
      "_view_name": "LayoutView",
      "align_content": null,
      "align_items": null,
      "align_self": null,
      "border": null,
      "bottom": null,
      "display": null,
      "flex": null,
      "flex_flow": null,
      "grid_area": null,
      "grid_auto_columns": null,
      "grid_auto_flow": null,
      "grid_auto_rows": null,
      "grid_column": null,
      "grid_gap": null,
      "grid_row": null,
      "grid_template_areas": null,
      "grid_template_columns": null,
      "grid_template_rows": null,
      "height": null,
      "justify_content": null,
      "justify_items": null,
      "left": null,
      "margin": null,
      "max_height": null,
      "max_width": null,
      "min_height": null,
      "min_width": null,
      "object_fit": null,
      "object_position": null,
      "order": null,
      "overflow": null,
      "overflow_x": null,
      "overflow_y": null,
      "padding": null,
      "right": null,
      "top": null,
      "visibility": null,
      "width": null
     }
    },
    "c73994a5e07640059e2ec3db5db15f13": {
     "model_module": "@jupyter-widgets/base",
     "model_name": "LayoutModel",
     "model_module_version": "1.2.0",
     "state": {
      "_model_module": "@jupyter-widgets/base",
      "_model_module_version": "1.2.0",
      "_model_name": "LayoutModel",
      "_view_count": null,
      "_view_module": "@jupyter-widgets/base",
      "_view_module_version": "1.2.0",
      "_view_name": "LayoutView",
      "align_content": null,
      "align_items": null,
      "align_self": null,
      "border": null,
      "bottom": null,
      "display": null,
      "flex": null,
      "flex_flow": null,
      "grid_area": null,
      "grid_auto_columns": null,
      "grid_auto_flow": null,
      "grid_auto_rows": null,
      "grid_column": null,
      "grid_gap": null,
      "grid_row": null,
      "grid_template_areas": null,
      "grid_template_columns": null,
      "grid_template_rows": null,
      "height": null,
      "justify_content": null,
      "justify_items": null,
      "left": null,
      "margin": null,
      "max_height": null,
      "max_width": null,
      "min_height": null,
      "min_width": null,
      "object_fit": null,
      "object_position": null,
      "order": null,
      "overflow": null,
      "overflow_x": null,
      "overflow_y": null,
      "padding": null,
      "right": null,
      "top": null,
      "visibility": null,
      "width": null
     }
    },
    "556f6339b3a747c1a553d3a656103086": {
     "model_module": "@jupyter-widgets/controls",
     "model_name": "DescriptionStyleModel",
     "model_module_version": "1.5.0",
     "state": {
      "_model_module": "@jupyter-widgets/controls",
      "_model_module_version": "1.5.0",
      "_model_name": "DescriptionStyleModel",
      "_view_count": null,
      "_view_module": "@jupyter-widgets/base",
      "_view_module_version": "1.2.0",
      "_view_name": "StyleView",
      "description_width": ""
     }
    },
    "fd6634782a3445c997c38df02d74f02c": {
     "model_module": "@jupyter-widgets/base",
     "model_name": "LayoutModel",
     "model_module_version": "1.2.0",
     "state": {
      "_model_module": "@jupyter-widgets/base",
      "_model_module_version": "1.2.0",
      "_model_name": "LayoutModel",
      "_view_count": null,
      "_view_module": "@jupyter-widgets/base",
      "_view_module_version": "1.2.0",
      "_view_name": "LayoutView",
      "align_content": null,
      "align_items": null,
      "align_self": null,
      "border": null,
      "bottom": null,
      "display": null,
      "flex": null,
      "flex_flow": null,
      "grid_area": null,
      "grid_auto_columns": null,
      "grid_auto_flow": null,
      "grid_auto_rows": null,
      "grid_column": null,
      "grid_gap": null,
      "grid_row": null,
      "grid_template_areas": null,
      "grid_template_columns": null,
      "grid_template_rows": null,
      "height": null,
      "justify_content": null,
      "justify_items": null,
      "left": null,
      "margin": null,
      "max_height": null,
      "max_width": null,
      "min_height": null,
      "min_width": null,
      "object_fit": null,
      "object_position": null,
      "order": null,
      "overflow": null,
      "overflow_x": null,
      "overflow_y": null,
      "padding": null,
      "right": null,
      "top": null,
      "visibility": null,
      "width": null
     }
    },
    "60948c6a7b85488dbcb038aab350ef55": {
     "model_module": "@jupyter-widgets/controls",
     "model_name": "ProgressStyleModel",
     "model_module_version": "1.5.0",
     "state": {
      "_model_module": "@jupyter-widgets/controls",
      "_model_module_version": "1.5.0",
      "_model_name": "ProgressStyleModel",
      "_view_count": null,
      "_view_module": "@jupyter-widgets/base",
      "_view_module_version": "1.2.0",
      "_view_name": "StyleView",
      "bar_color": null,
      "description_width": ""
     }
    },
    "c1e787d3d61f467da51c06b346722c6b": {
     "model_module": "@jupyter-widgets/base",
     "model_name": "LayoutModel",
     "model_module_version": "1.2.0",
     "state": {
      "_model_module": "@jupyter-widgets/base",
      "_model_module_version": "1.2.0",
      "_model_name": "LayoutModel",
      "_view_count": null,
      "_view_module": "@jupyter-widgets/base",
      "_view_module_version": "1.2.0",
      "_view_name": "LayoutView",
      "align_content": null,
      "align_items": null,
      "align_self": null,
      "border": null,
      "bottom": null,
      "display": null,
      "flex": null,
      "flex_flow": null,
      "grid_area": null,
      "grid_auto_columns": null,
      "grid_auto_flow": null,
      "grid_auto_rows": null,
      "grid_column": null,
      "grid_gap": null,
      "grid_row": null,
      "grid_template_areas": null,
      "grid_template_columns": null,
      "grid_template_rows": null,
      "height": null,
      "justify_content": null,
      "justify_items": null,
      "left": null,
      "margin": null,
      "max_height": null,
      "max_width": null,
      "min_height": null,
      "min_width": null,
      "object_fit": null,
      "object_position": null,
      "order": null,
      "overflow": null,
      "overflow_x": null,
      "overflow_y": null,
      "padding": null,
      "right": null,
      "top": null,
      "visibility": null,
      "width": null
     }
    },
    "626bc087b6284d58839d5214f984016c": {
     "model_module": "@jupyter-widgets/controls",
     "model_name": "DescriptionStyleModel",
     "model_module_version": "1.5.0",
     "state": {
      "_model_module": "@jupyter-widgets/controls",
      "_model_module_version": "1.5.0",
      "_model_name": "DescriptionStyleModel",
      "_view_count": null,
      "_view_module": "@jupyter-widgets/base",
      "_view_module_version": "1.2.0",
      "_view_name": "StyleView",
      "description_width": ""
     }
    }
   }
  }
 },
 "cells": [
  {
   "metadata": {},
   "cell_type": "markdown",
   "source": "<a href=\"https://colab.research.google.com/github/Ali-Alameer/Deep-Learning/blob/main/week6_pytorch_transfer_learning.ipynb\" target=\"_parent\"><img src=\"https://colab.research.google.com/assets/colab-badge.svg\" alt=\"Open In Colab\"/></a>"
  },
  {
   "cell_type": "markdown",
   "source": [
    "# PyTorch Transfer Learning"
   ],
   "metadata": {
    "id": "peW0YcE86o3a"
   }
  },
  {
   "cell_type": "markdown",
   "source": [
    "## What we're going to cover\n",
    "\n",
    "We're going to take a pretrained model from `torchvision.models` and customise it to work on (and hopefully improve) our Understanding the university building problem.\n",
    "\n",
    "<ol>\n",
    "  <li> Getting setup </li>\n",
    "  <li> Get data </li>\n",
    "  <li> Create Datasets and DataLoaders</li>\n",
    "  <li> Get and customise a pretrained model</li>\n",
    "  <li> Train model</li>\n",
    "  <li> Evaluate the model by plotting loss curves</li>\n",
    "  <li> Make predictions on images from the test set</li>\n",
    "</ol>"
   ],
   "metadata": {
    "id": "koP4oYEh6zn-"
   }
  },
  {
   "cell_type": "markdown",
   "source": [
    "## 1. Getting setup\n",
    "\n",
    "Let's get started by importing/downloading the required modules for this section."
   ],
   "metadata": {
    "id": "YO9TUAi68RVm"
   }
  },
  {
   "cell_type": "code",
   "source": [
    "# Continue with regular imports\n",
    "import matplotlib.pyplot as plt\n",
    "import torch\n",
    "import torchvision\n",
    "\n",
    "from torch import nn\n",
    "from torchvision import transforms\n",
    "\n",
    "# Try to get torchinfo, install it if it doesn't work\n",
    "try:\n",
    "    from torchinfo import summary\n",
    "except:\n",
    "    print(\"[INFO] Couldn't find torchinfo... installing it.\")\n",
    "    !pip install -q torchinfo\n",
    "    from torchinfo import summary\n",
    "\n",
    "# Try to import the going_modular directory, download it from GitHub if it doesn't work\n",
    "try:\n",
    "    from going_modular.going_modular import data_setup, engine\n",
    "except:\n",
    "    # Get the going_modular scripts\n",
    "    print(\"[INFO] Couldn't find going_modular scripts... downloading them from GitHub.\")\n",
    "    !git clone https://github.com/mrdbourke/pytorch-deep-learning\n",
    "    !mv pytorch-deep-learning/going_modular .\n",
    "    !rm -rf pytorch-deep-learning\n",
    "    from going_modular.going_modular import data_setup, engine"
   ],
   "metadata": {
    "colab": {
     "base_uri": "https://localhost:8080/"
    },
    "id": "c8H-MIRf07E7",
    "outputId": "d40e05f6-61c6-4af4-efab-7b48356043e3"
   },
   "outputs": [],
   "execution_count": null
  },
  {
   "metadata": {},
   "cell_type": "code",
   "outputs": [],
   "execution_count": null,
   "source": [
    "# For this notebook to run with updated APIs, we need torch 1.12+ and torchvision 0.13+\n",
    "try:\n",
    "    import torch\n",
    "    import torchvision\n",
    "    assert int(torch.__version__.split(\".\")[1]) >= 12, \"torch version should be 1.12+\"\n",
    "    assert int(torchvision.__version__.split(\".\")[1]) >= 13, \"torchvision version should be 0.13+\"\n",
    "    print(f\"torch version: {torch.__version__}\")\n",
    "    print(f\"torchvision version: {torchvision.__version__}\")\n",
    "except:\n",
    "    print(f\"[INFO] torch/torchvision versions not as required, installing nightly versions.\")\n",
    "    !pip3 install -U torch torchvision torchaudio --extra-index-url https://download.pytorch.org/whl/cu113\n",
    "    import torch\n",
    "    import torchvision\n",
    "    print(f\"torch version: {torch.__version__}\")\n",
    "    print(f\"torchvision version: {torchvision.__version__}\")"
   ]
  },
  {
   "cell_type": "markdown",
   "source": [
    "Now let's setup device agnostic code.\n",
    "\n",
    "> **Note:** If you're using Google Colab, and you don't have a GPU turned on yet, it's now time to turn one on via `Runtime -> Change runtime type -> Hardware accelerator -> GPU`."
   ],
   "metadata": {
    "id": "i6uIRVcG8bba"
   }
  },
  {
   "cell_type": "code",
   "source": [
    "# Setup device agnostic code\n",
    "device = \"cuda\" if torch.cuda.is_available() else \"cpu\"\n",
    "device"
   ],
   "metadata": {
    "colab": {
     "base_uri": "https://localhost:8080/",
     "height": 35
    },
    "id": "G6h4hPnU1KhK",
    "outputId": "b5f73128-8ee3-4bc5-ce7e-bcd4b7d60bde"
   },
   "outputs": [],
   "execution_count": null
  },
  {
   "cell_type": "markdown",
   "source": [
    "## 2. Get data\n",
    "\n",
    "Before we can start to use **transfer learning**, we'll need a dataset.\n",
    "\n",
    "Let's write some code to download the [`University Buildings`](https://salford.figshare.com/ndownloader/files/36524085) dataset and then unzip it.\n",
    "\n",
    "We can also make sure if we've already got the data, it doesn't redownload."
   ],
   "metadata": {
    "id": "Lgq4c3sV8jqG"
   }
  },
  {
   "cell_type": "code",
   "source": [
    "import os\n",
    "import tarfile\n",
    "import random\n",
    "from pathlib import Path\n",
    "import shutil\n",
    "import requests\n",
    "\n",
    "# --- Torch / torchvision ---\n",
    "import torch\n",
    "from torch.utils.data import DataLoader\n",
    "from torchvision import datasets, transforms\n",
    "\n",
    "# Paths & download/extract\n",
    "\n",
    "data_path = Path(\"data\")\n",
    "root_dir = data_path / \"dataset\"   # after extract, expect: data/dataset/<class>/*.jpg\n",
    "\n",
    "if root_dir.is_dir() and any((root_dir / d).is_dir() for d in os.listdir(root_dir)):\n",
    "    print(f\"{root_dir} directory exists.\")\n",
    "else:\n",
    "    print(f\"Did not find {root_dir} directory (with class folders), creating and downloading...\")\n",
    "    root_dir.mkdir(parents=True, exist_ok=True)\n",
    "\n",
    "    tar_file_path = data_path / \"dataset.tar.gz\"\n",
    "    print(\"Downloading data...\")\n",
    "    resp = requests.get(\"https://salford.figshare.com/ndownloader/files/36524085\", stream=True)\n",
    "    resp.raise_for_status()\n",
    "    with open(tar_file_path, \"wb\") as f:\n",
    "        for chunk in resp.iterated_content if hasattr(resp, \"iterated_content\") else resp.iter_content(chunk_size=8192):\n",
    "            f.write(chunk)\n",
    "    print(\"Download complete. Extracting...\")\n",
    "\n",
    "    # Extract\n",
    "    with tarfile.open(tar_file_path, \"r:gz\") as tar:\n",
    "        tar.extractall(path=data_path)  # usually extracts to data/dataset/...\n",
    "    print(\"Extraction complete.\")\n",
    "\n",
    "    tar_file_path.unlink(missing_ok=True)\n",
    "\n",
    "# Train/test split from class folders\n",
    "def create_train_test_split(\n",
    "    src_root: Path,\n",
    "    train_root: Path,\n",
    "    test_root: Path,\n",
    "    train_ratio: float = 0.8,\n",
    "    seed: int = 42,\n",
    "    move: bool = False,\n",
    "    exts=(\".jpg\", \".jpeg\", \".png\", \".bmp\", \".gif\", \".tif\", \".tiff\", \".webp\"),\n",
    "):\n",
    "    \"\"\"\n",
    "    From src_root/<class>/*.{ext}, create:\n",
    "      train_root/<class>/* and test_root/<class>/*\n",
    "    Copies by default (safe). Set move=True to move.\n",
    "    Skips files that already exist in destination.\n",
    "    \"\"\"\n",
    "    random.seed(seed)\n",
    "    train_root.mkdir(parents=True, exist_ok=True)\n",
    "    test_root.mkdir(parents=True, exist_ok=True)\n",
    "\n",
    "    # treat any subdir of src_root as a class dir (ignore train/test if already present)\n",
    "    class_dirs = [d for d in src_root.iterdir() if d.is_dir() and d.name not in (\"train\", \"test\")]\n",
    "    if not class_dirs:\n",
    "        print(\"No class folders found to split (maybe already split?).\")\n",
    "        return\n",
    "\n",
    "    op = shutil.move if move else shutil.copy2\n",
    "\n",
    "    for cdir in class_dirs:\n",
    "        cls = cdir.name\n",
    "        imgs = [p for p in cdir.rglob(\"*\") if p.is_file() and p.suffix.lower() in exts]\n",
    "        if not imgs:\n",
    "            print(f\"Skipping empty class '{cls}'.\")\n",
    "            continue\n",
    "\n",
    "        random.shuffle(imgs)\n",
    "        split_idx = int(len(imgs) * train_ratio)\n",
    "        train_imgs = imgs[:split_idx]\n",
    "        test_imgs = imgs[split_idx:]\n",
    "\n",
    "        dest_train = train_root / cls\n",
    "        dest_test  = test_root / cls\n",
    "        dest_train.mkdir(parents=True, exist_ok=True)\n",
    "        dest_test.mkdir(parents=True, exist_ok=True)\n",
    "\n",
    "        def safe_copy(srcs, dest_dir):\n",
    "            copied, skipped = 0, 0\n",
    "            for src in srcs:\n",
    "                dst = dest_dir / src.name\n",
    "                if dst.exists():\n",
    "                    skipped += 1\n",
    "                    continue\n",
    "                op(str(src), str(dst))\n",
    "                copied += 1\n",
    "            return copied, skipped\n",
    "\n",
    "        t_copied, t_skipped = safe_copy(train_imgs, dest_train)\n",
    "        v_copied, v_skipped = safe_copy(test_imgs, dest_test)\n",
    "\n",
    "        print(f\"[{cls}] -> train: +{t_copied} (skip {t_skipped}), test: +{v_copied} (skip {v_skipped})\")\n",
    "\n",
    "    print(\"Train/test split complete.\")"
   ],
   "metadata": {
    "colab": {
     "base_uri": "https://localhost:8080/"
    },
    "id": "vCQ78rVY1Ocj",
    "outputId": "51f4d7de-c31b-4010-db9f-c4d3a3801be3"
   },
   "outputs": [],
   "execution_count": null
  },
  {
   "cell_type": "code",
   "source": [
    "# Setup Dirs\n",
    "train_dir = root_dir / \"train\"\n",
    "test_dir  = root_dir / \"test\"\n",
    "\n",
    "# If not already split, create it\n",
    "if not (train_dir.exists() and test_dir.exists()):\n",
    "    create_train_test_split(root_dir, train_dir, test_dir, train_ratio=0.8, seed=42, move=False)\n",
    "else:\n",
    "    print(\"Train/test folders already exist, skipping split.\")\n"
   ],
   "metadata": {
    "colab": {
     "base_uri": "https://localhost:8080/"
    },
    "id": "5SC5JbXb2HoP",
    "outputId": "9b8b2449-660c-455b-f067-f258d2821148"
   },
   "outputs": [],
   "execution_count": null
  },
  {
   "cell_type": "markdown",
   "source": [
    "## 3. Create Datasets and DataLoaders"
   ],
   "metadata": {
    "id": "hOkES8xk-wCl"
   }
  },
  {
   "cell_type": "markdown",
   "source": [
    "### 3.1 Creating a transform for `torchvision.models` (manual creation)\n",
    "\n",
    "> **Note:** As of `torchvision` v0.13+, there's an update to how data transforms can be created using `torchvision.models`. I've called the previous method \"manual creation\" and the new method \"auto creation\". This notebook showcases both.\n",
    "\n",
    "When using a pretrained model, it's important that **your custom data going into the model is prepared in the same way as the original training data that went into the model**.\n",
    "\n",
    "Prior to `torchvision` v0.13+, to create a transform for a pretrained model in `torchvision.models`, the documentation stated:\n",
    "\n",
    "> All pre-trained models expect input images normalized in the same way, i.e. mini-batches of 3-channel RGB images of shape (3 x H x W), where H and W are expected to be at least 224.\n",
    ">\n",
    "> The images have to be loaded in to a range of `[0, 1]` and then normalized using `mean = [0.485, 0.456, 0.406]` and `std = [0.229, 0.224, 0.225]`.\n",
    ">\n",
    "> You can use the following transform to normalize:\n",
    ">\n",
    "> ```\n",
    "> normalize = transforms.Normalize(mean=[0.485, 0.456, 0.406],\n",
    ">                                  std=[0.229, 0.224, 0.225])\n",
    "> ```\n",
    "\n",
    "The good news is, we can achieve the above transformations with a combination of:\n",
    "\n",
    "| **Transform number** | **Transform required** | **Code to perform transform** |\n",
    "| ----- | ----- | ----- |\n",
    "| 1 | Mini-batches of size `[batch_size, 3, height, width]` where height and width are at least 224x224^. | `torchvision.transforms.Resize()` to resize images into `[3, 224, 224]`^ and `torch.utils.data.DataLoader()` to create batches of images. |\n",
    "| 2 | Values between 0 & 1. | `torchvision.transforms.ToTensor()` |\n",
    "| 3 | A mean of `[0.485, 0.456, 0.406]` (values across each colour channel). | `torchvision.transforms.Normalize(mean=...)` to adjust the mean of our images.  |\n",
    "| 4 | A standard deviation of `[0.229, 0.224, 0.225]` (values across each colour channel). | `torchvision.transforms.Normalize(std=...)` to adjust the standard deviation of our images.  |\n",
    "\n",
    "> **Note:** some pretrained models from `torchvision.models` in different sizes to `[3, 224, 224]`, for example, some might take them in `[3, 240, 240]`. For specific input image sizes, see the documentation.\n",
    "\n",
    "> **Question:** *Where did the mean and standard deviation values come from? Why do we need to do this?*\n",
    ">\n",
    "> These were calculated from the data. Specifically, the ImageNet dataset by taking the means and standard deviations across a subset of images.\n",
    ">\n",
    "> We also don't *need* to do this. Neural networks are usually quite capable of figuring out appropriate data distributions (they'll calculate where the mean and standard deviations need to be on their own) but setting them at the start can help our networks achieve better performance quicker.\n",
    "\n",
    "Let's compose a series of `torchvision.transforms` to perform the above steps."
   ],
   "metadata": {
    "id": "yQunruN8-1hL"
   }
  },
  {
   "cell_type": "code",
   "source": [
    "# Create a transforms pipeline manually (required for torchvision < 0.13)\n",
    "manual_transforms = transforms.Compose([\n",
    "    transforms.Resize((224, 224)),\n",
    "    transforms.ToTensor(),\n",
    "    transforms.Normalize(\n",
    "        mean=[0.485, 0.456, 0.406],\n",
    "        std=[0.229, 0.224, 0.225]\n",
    "    ),\n",
    "])"
   ],
   "metadata": {
    "id": "3fLF5VPe26dZ"
   },
   "outputs": [],
   "execution_count": null
  },
  {
   "cell_type": "markdown",
   "source": [
    "Wonderful!\n",
    "\n",
    "Now we've got a **manually created series of transforms** ready to prepare our images, let's create training and testing DataLoaders.\n",
    "\n",
    "We'll set `batch_size=32` so our model sees mini-batches of 32 samples at a time.\n",
    "\n",
    "And we can transform our images using the transform pipeline we created above by setting `transform=manual_transforms`.\n",
    "\n",
    "> **Note:** I've included this manual creation of transforms in this notebook because you may come across resources that use this style. It's also important to note that because these transforms are manually created, they're also infinitely customizable. So if you wanted to include data augmentation techniques in your transforms pipeline, you could."
   ],
   "metadata": {
    "id": "Pz3GtPvO_Dpw"
   }
  },
  {
   "cell_type": "code",
   "source": [
    "# Build datasets\n",
    "train_ds = datasets.ImageFolder(root=str(train_dir), transform=manual_transforms)\n",
    "test_ds  = datasets.ImageFolder(root=str(test_dir),  transform=manual_transforms)\n",
    "\n",
    "# DataLoaders\n",
    "train_dataloader = DataLoader(train_ds, batch_size=32, shuffle=True, num_workers=os.cpu_count() or 2, pin_memory=True)\n",
    "test_dataloader  = DataLoader(test_ds,  batch_size=32, shuffle=False, num_workers=os.cpu_count() or 2, pin_memory=True)\n",
    "\n",
    "class_names = train_ds.classes\n",
    "print(\"Classes:\", class_names)"
   ],
   "metadata": {
    "colab": {
     "base_uri": "https://localhost:8080/"
    },
    "id": "k2pdSbwU28jc",
    "outputId": "97b27317-b855-4b22-f014-1d20d46b031b"
   },
   "outputs": [],
   "execution_count": null
  },
  {
   "cell_type": "markdown",
   "source": [
    "### 3.2 Creating a transform for `torchvision.models` (auto creation)\n",
    "\n",
    "As previously stated, when using a pretrained model, it's important that **your custom data going into the model is prepared in the same way as the original training data that went into the model**.\n",
    "\n",
    "Above we saw how to manually create a transform for a pretrained model.\n",
    "\n",
    "But as of `torchvision` v0.13+, an automatic transform creation feature has been added.\n",
    "\n",
    "When you setup a model from `torchvision.models` and select the pretrained model weights you'd like to use, for example, say we'd like to use:\n",
    "    \n",
    "```python\n",
    "weights = torchvision.models.EfficientNet_B0_Weights.DEFAULT\n",
    "```\n",
    "\n",
    "Where,\n",
    "* `EfficientNet_B0_Weights` is the model architecture weights we'd like to use (there are many different model architecture options in `torchvision.models`).\n",
    "* `DEFAULT` means the *best available* weights (the best performance in ImageNet).\n",
    "    * **Note:** Depending on the model architecture you choose, you may also see other options such as `IMAGENET_V1` and `IMAGENET_V2` where generally the higher version number the better. Though if you want the best available, `DEFAULT` is the easiest option. See the [`torchvision.models` documentation](https://pytorch.org/vision/main/models.html) for more.\n",
    "    \n",
    "Let's try it out."
   ],
   "metadata": {
    "id": "HzfzBnpm_XOO"
   }
  },
  {
   "cell_type": "code",
   "source": [
    "# Get a set of pretrained model weights\n",
    "weights = torchvision.models.EfficientNet_B0_Weights.DEFAULT # .DEFAULT = best available weights from pretraining on ImageNet\n",
    "weights"
   ],
   "metadata": {
    "colab": {
     "base_uri": "https://localhost:8080/"
    },
    "id": "R8tOubEm2_P2",
    "outputId": "89fc02c2-1cea-4604-84c8-225aa9a826d0"
   },
   "outputs": [],
   "execution_count": null
  },
  {
   "cell_type": "markdown",
   "source": [
    "And now to access the transforms associated with our `weights`, we can use the `transforms()` method.\n",
    "\n",
    "This is essentially saying \"get the data transforms that were used to train the `EfficientNet_B0_Weights` on ImageNet\"."
   ],
   "metadata": {
    "id": "jrMp5RZh_ify"
   }
  },
  {
   "cell_type": "code",
   "source": [
    "# Get the transforms used to create our pretrained weights\n",
    "auto_transforms = weights.transforms()\n",
    "auto_transforms"
   ],
   "metadata": {
    "colab": {
     "base_uri": "https://localhost:8080/"
    },
    "id": "UuBeSN8u3CQW",
    "outputId": "8acd1185-06ed-4a47-d0ad-98b4a81f2530"
   },
   "outputs": [],
   "execution_count": null
  },
  {
   "cell_type": "markdown",
   "source": [
    "Notice how `auto_transforms` is very similar to `manual_transforms`, the only difference is that `auto_transforms` came with the model architecture we chose, where as we had to create `manual_transforms` by hand.\n",
    "\n",
    "The benefit of automatically creating a transform through `weights.transforms()` is that you ensure you're using the same data transformation as the pretrained model used when it was trained.\n",
    "\n",
    "However, the tradeoff of using automatically created transforms is a lack of customization.\n",
    "\n",
    "We can use `auto_transforms` to create DataLoaders with `create_dataloaders()` just as before."
   ],
   "metadata": {
    "id": "62U-5mva_o5O"
   }
  },
  {
   "cell_type": "code",
   "source": [
    "# Create training and testing DataLoaders as well as get a list of class names\n",
    "train_dataloader, test_dataloader, class_names = data_setup.create_dataloaders(train_dir=train_dir,\n",
    "                                                                               test_dir=test_dir,\n",
    "                                                                               transform=auto_transforms, # perform same data transforms on our own data as the pretrained model\n",
    "                                                                               batch_size=32) # set mini-batch size to 32\n",
    "\n",
    "train_dataloader, test_dataloader, class_names"
   ],
   "metadata": {
    "colab": {
     "base_uri": "https://localhost:8080/"
    },
    "id": "H9bOPo0-3EsL",
    "outputId": "0bfe7196-921a-4994-b394-08abf4e5fd30"
   },
   "outputs": [],
   "execution_count": null
  },
  {
   "cell_type": "code",
   "source": [
    "weights = torchvision.models.EfficientNet_B0_Weights.DEFAULT # .DEFAULT = best available weights for ImageNet\n"
   ],
   "metadata": {
    "id": "iwy9P7f33GbL"
   },
   "outputs": [],
   "execution_count": null
  },
  {
   "cell_type": "markdown",
   "source": [
    "## 4. Getting a pretrained model\n",
    "\n",
    "Alright, here comes the fun part!\n",
    "\n",
    "\n",
    "The whole idea of transfer learning is to **take an already well-performing model on a problem-space similar to yours and then customise it to your use case**.\n",
    "\n",
    "Since we're working on a computer vision problem (image classification), we can find pretrained classification models in [`torchvision.models`](https://pytorch.org/vision/stable/models.html#classification).\n",
    "\n",
    "Exploring the documentation, you'll find plenty of common computer vision architecture backbones such as:\n",
    "\n",
    "| **Architecuture backbone** | **Code** |\n",
    "| ----- | ----- |\n",
    "| [ResNet](https://arxiv.org/abs/1512.03385)'s | `torchvision.models.resnet18()`, `torchvision.models.resnet50()`... |\n",
    "| [VGG](https://arxiv.org/abs/1409.1556) (similar to what we used for TinyVGG) | `torchvision.models.vgg16()` |\n",
    "| [EfficientNet](https://arxiv.org/abs/1905.11946)'s | `torchvision.models.efficientnet_b0()`, `torchvision.models.efficientnet_b1()`... |\n",
    "| [VisionTransformer](https://arxiv.org/abs/2010.11929) (ViT's)| `torchvision.models.vit_b_16()`, `torchvision.models.vit_b_32()`... |\n",
    "| [ConvNeXt](https://arxiv.org/abs/2201.03545) | `torchvision.models.convnext_tiny()`,  `torchvision.models.convnext_small()`... |\n",
    "| More available in `torchvision.models` | `torchvision.models...` |"
   ],
   "metadata": {
    "id": "fiksMumR_0PG"
   }
  },
  {
   "cell_type": "code",
   "source": [
    "# OLD: Setup the model with pretrained weights and send it to the target device (this was prior to torchvision v0.13)\n",
    "# model = torchvision.models.efficientnet_b0(pretrained=True).to(device) # OLD method (with pretrained=True)\n",
    "\n",
    "# NEW: Setup the model with pretrained weights and send it to the target device (torchvision v0.13+)\n",
    "weights = torchvision.models.EfficientNet_B0_Weights.DEFAULT # .DEFAULT = best available weights\n",
    "model = torchvision.models.efficientnet_b0(weights=weights).to(device)\n",
    "\n",
    "#model # uncomment to output (it's very long)"
   ],
   "metadata": {
    "colab": {
     "base_uri": "https://localhost:8080/"
    },
    "id": "6zvY9dTq3L2X",
    "outputId": "d54a430f-a09d-4a3e-fe7b-010de191bca7"
   },
   "outputs": [],
   "execution_count": null
  },
  {
   "cell_type": "markdown",
   "source": [
    "> **Note:** In previous versions of `torchvision`, you'd create a pretrained model with code like:\n",
    ">\n",
    "> `model = torchvision.models.efficientnet_b0(pretrained=True).to(device)`\n",
    ">\n",
    "> However, running this using `torchvision` v0.13+ will result in errors such as the following:\n",
    ">\n",
    "> `UserWarning: The parameter 'pretrained' is deprecated since 0.13 and will be removed in 0.15, please use 'weights' instead.`\n",
    ">\n",
    "> And...\n",
    ">\n",
    "> `UserWarning: Arguments other than a weight enum or None for weights are deprecated since 0.13 and will be removed in 0.15. The current behavior is equivalent to passing weights=EfficientNet_B0_Weights.IMAGENET1K_V1. You can also use weights=EfficientNet_B0_Weights.DEFAULT to get the most up-to-date weights.`"
   ],
   "metadata": {
    "id": "eGtPyCYhAGkm"
   }
  },
  {
   "cell_type": "code",
   "source": [
    "# Print a summary using torchinfo (uncomment for actual output)\n",
    "summary(model=model,\n",
    "        input_size=(32, 3, 224, 224), # make sure this is \"input_size\", not \"input_shape\"\n",
    "        # col_names=[\"input_size\"], # uncomment for smaller output\n",
    "        col_names=[\"input_size\", \"output_size\", \"num_params\", \"trainable\"],\n",
    "        col_width=20,\n",
    "        row_settings=[\"var_names\"]\n",
    ")"
   ],
   "metadata": {
    "colab": {
     "base_uri": "https://localhost:8080/"
    },
    "id": "2h6pKhP85_OR",
    "outputId": "2382ed79-b5a0-4c0b-e05e-3165bc54b8a4"
   },
   "outputs": [],
   "execution_count": null
  },
  {
   "cell_type": "markdown",
   "source": [
    "### 3.4 Freezing the base model and changing the output layer to suit our needs\n",
    "\n",
    "The process of transfer learning usually goes: freeze some base layers of a pretrained model (typically the `features` section) and then adjust the output layers (also called head/classifier layers) to suit your needs.\n",
    "\n",
    "\n",
    "*You can customise the outputs of a pretrained model by changing the output layer(s) to suit your problem. The original `torchvision.models.efficientnet_b0()` comes with `out_features=1000` because there are 1000 classes in ImageNet, the dataset it was trained on. However, for our problem, classifying images of pizza, steak and sushi we only need `out_features=3`.*\n",
    "\n",
    "Let's freeze all of the layers/parameters in the `features` section of our `efficientnet_b0` model.\n",
    "\n",
    "> **Note:** To *freeze* layers means to keep them how they are during training. For example, if your model has pretrained layers, to *freeze* them would be to say, \"don't change any of the patterns in these layers during training, keep them how they are.\" In essence, we'd like to keep the pretrained weights/patterns our model has learned from ImageNet as a backbone and then only change the output layers."
   ],
   "metadata": {
    "id": "txa_gtoDVm-W"
   }
  },
  {
   "cell_type": "code",
   "source": [
    "# Freeze all base layers in the \"features\" section of the model (the feature extractor) by setting requires_grad=False\n",
    "for param in model.features.parameters():\n",
    "    param.requires_grad = False"
   ],
   "metadata": {
    "id": "7duOkdsj6BiV"
   },
   "outputs": [],
   "execution_count": null
  },
  {
   "cell_type": "markdown",
   "source": [
    "Feature extractor layers frozen!\n",
    "\n",
    "Let's now adjust the output layer or the `classifier` portion of our pretrained model to our needs.\n",
    "\n",
    "Right now our pretrained model has `out_features=1000` because there are 1000 classes in ImageNet.\n",
    "\n",
    "However, we don't have 1000 classes, we only have three, pizza, steak and sushi.\n",
    "\n",
    "We can change the `classifier` portion of our model by creating a new series of layers.\n",
    "\n",
    "The current `classifier` consists of:\n",
    "\n",
    "```\n",
    "(classifier): Sequential(\n",
    "    (0): Dropout(p=0.2, inplace=True)\n",
    "    (1): Linear(in_features=1280, out_features=1000, bias=True)\n",
    "```\n",
    "\n",
    "We'll keep the `Dropout` layer the same using [`torch.nn.Dropout(p=0.2, inplace=True)`](https://pytorch.org/docs/stable/generated/torch.nn.Dropout.html).\n",
    "\n",
    "> **Note:** [Dropout layers](https://developers.google.com/machine-learning/glossary#dropout_regularization) randomly remove connections between two neural network layers with a probability of `p`. For example, if `p=0.2`, 20% of connections between neural network layers will be removed at random each pass. This practice is meant to help regularize (prevent overfitting) a model by making sure the connections that remain learn features to compensate for the removal of the other connections (hopefully these remaining features are *more general*).\n",
    "\n",
    "And we'll keep `in_features=1280` for our `Linear` output layer but we'll change the `out_features` value to the length of our `class_names` (`len(['pizza', 'steak', 'sushi']) = 3`).\n",
    "\n",
    "Our new `classifier` layer should be on the same device as our `model`."
   ],
   "metadata": {
    "id": "AvMzLZyzV3ax"
   }
  },
  {
   "cell_type": "code",
   "source": [
    "# Set the manual seeds\n",
    "torch.manual_seed(42)\n",
    "torch.cuda.manual_seed(42)\n",
    "\n",
    "# Get the length of class_names (one output unit for each class)\n",
    "output_shape = len(class_names)\n",
    "\n",
    "# Recreate the classifier layer and seed it to the target device\n",
    "model.classifier = torch.nn.Sequential(\n",
    "    torch.nn.Dropout(p=0.2, inplace=True),\n",
    "    torch.nn.Linear(in_features=1280,\n",
    "                    out_features=output_shape, # same number of output units as our number of classes\n",
    "                    bias=True)).to(device)"
   ],
   "metadata": {
    "id": "shzx24aU6EQK"
   },
   "outputs": [],
   "execution_count": null
  },
  {
   "cell_type": "markdown",
   "source": [
    "Output layer updated, let's get another summary of our model and see what's changed."
   ],
   "metadata": {
    "id": "qabMSOFVV9-t"
   }
  },
  {
   "cell_type": "code",
   "source": [
    "# # Do a summary *after* freezing the features and changing the output classifier layer (uncomment for actual output)\n",
    "summary(model,\n",
    "        input_size=(32, 3, 224, 224), # make sure this is \"input_size\", not \"input_shape\" (batch_size, color_channels, height, width)\n",
    "        verbose=0,\n",
    "        col_names=[\"input_size\", \"output_size\", \"num_params\", \"trainable\"],\n",
    "        col_width=20,\n",
    "        row_settings=[\"var_names\"]\n",
    ")"
   ],
   "metadata": {
    "colab": {
     "base_uri": "https://localhost:8080/"
    },
    "id": "86qn1riD6Fwd",
    "outputId": "fa035399-3f82-4753-cef2-3bcb699abf65"
   },
   "outputs": [],
   "execution_count": null
  },
  {
   "cell_type": "markdown",
   "source": [
    "There's a fair few changes here!\n",
    "\n",
    "Let's go through them:\n",
    "* **Trainable column** - You'll see that many of the base layers (the ones in the `features` portion) have their Trainable value as `False`. This is because we set their attribute `requires_grad=False`. Unless we change this, these layers won't be updated during future training.\n",
    "* **Output shape of `classifier`** - The `classifier` portion of the model now has an Output Shape value of `[32, 3]` instead of `[32, 1000]`. It's Trainable value is also `True`. This means its parameters will be updated during training. In essence, we're using the `features` portion to feed our `classifier` portion a base representation of an image and then our `classifier` layer is going to learn how to base representation aligns with our problem.\n",
    "* **Less trainable parameters** - Previously there were 5,288,548 trainable parameters. But since we froze many of the layers of the model and only left the `classifier` as trainable, there's now only 3,843 trainable parameters (even less than our TinyVGG model). Though there's also 4,007,548 non-trainable parameters, these will create a base representation of our input images to feed into our `classifier` layer.\n",
    "\n",
    "> **Note:** The more trainable parameters a model has, the more compute power/longer it takes to train. Freezing the base layers of our model and leaving it with less trainable parameters means our model should train quite quickly. This is one huge benefit of transfer learning, taking the already learned parameters of a model trained on a problem similar to yours and only tweaking the outputs slightly to suit your problem."
   ],
   "metadata": {
    "id": "XgLZljtyAyDb"
   }
  },
  {
   "cell_type": "markdown",
   "source": [
    "## 5. Train model\n",
    "\n",
    "Now we've got a pretrained model that's semi-frozen and has a customised `classifier`, how about we see transfer learning in action?\n",
    "\n",
    "To begin training, let's create a loss function and an optimizer.\n",
    "\n",
    "Because we're still working with multi-class classification, we'll use `nn.CrossEntropyLoss()` for the loss function.\n",
    "\n",
    "And we'll stick with `torch.optim.Adam()` as our optimizer with `lr=0.001`.\n"
   ],
   "metadata": {
    "id": "ASyKj7Z0WZVF"
   }
  },
  {
   "cell_type": "code",
   "source": [
    "# Define loss and optimizer\n",
    "loss_fn = nn.CrossEntropyLoss()\n",
    "optimizer = torch.optim.Adam(model.parameters(), lr=0.001)"
   ],
   "metadata": {
    "id": "LQ52AsH76HkO"
   },
   "outputs": [],
   "execution_count": null
  },
  {
   "cell_type": "markdown",
   "source": [
    "To train our model, we can use `train()` function.\n",
    "\n",
    "Let's see how long it takes to train our model for 5 epochs.\n",
    "\n",
    "> **Note:** We're only going to be training the parameters `classifier` here as all of the other parameters in our model have been frozen."
   ],
   "metadata": {
    "id": "uotpPbapWeyu"
   }
  },
  {
   "cell_type": "code",
   "source": [
    "# Set the random seeds\n",
    "torch.manual_seed(42)\n",
    "torch.cuda.manual_seed(42)\n",
    "\n",
    "# Start the timer\n",
    "from timeit import default_timer as timer\n",
    "start_time = timer()\n",
    "\n",
    "# Setup training and save the results\n",
    "results = engine.train(model=model,\n",
    "                       train_dataloader=train_dataloader,\n",
    "                       test_dataloader=test_dataloader,\n",
    "                       optimizer=optimizer,\n",
    "                       loss_fn=loss_fn,\n",
    "                       epochs=5,\n",
    "                       device=device)\n",
    "\n",
    "# End the timer and print out how long it took\n",
    "end_time = timer()\n",
    "print(f\"[INFO] Total training time: {end_time-start_time:.3f} seconds\")"
   ],
   "metadata": {
    "colab": {
     "base_uri": "https://localhost:8080/",
     "height": 49,
     "referenced_widgets": [
      "8a4f55549c374594b36b0233b7b8cf75",
      "cb1476d672c74bc69c69e709bdceb5c5",
      "13cd8f345a9c420598449a8fe79297fe",
      "92b8d9fa3789422dbd074184747ae767",
      "1df0bb51be9e4cf7851a92c404c8d873",
      "c73994a5e07640059e2ec3db5db15f13",
      "556f6339b3a747c1a553d3a656103086",
      "fd6634782a3445c997c38df02d74f02c",
      "60948c6a7b85488dbcb038aab350ef55",
      "c1e787d3d61f467da51c06b346722c6b",
      "626bc087b6284d58839d5214f984016c"
     ]
    },
    "id": "Z-HXnV8_6Jq4",
    "outputId": "47472bd8-7318-40c3-dd93-9f5fe2253143"
   },
   "outputs": [],
   "execution_count": null
  },
  {
   "cell_type": "markdown",
   "source": [
    "## 6. Evaluate model by plotting loss curves\n",
    "\n",
    "Our model looks like it's performing pretty well.\n",
    "\n",
    "Let's plot it's loss curves to see what the training looks like over time."
   ],
   "metadata": {
    "id": "77MvPyapWvLO"
   }
  },
  {
   "cell_type": "code",
   "source": [
    "# Get the plot_loss_curves() function from helper_functions.py, download the file if we don't have it\n",
    "try:\n",
    "    from helper_functions import plot_loss_curves\n",
    "except:\n",
    "    print(\"[INFO] Couldn't find helper_functions.py, downloading...\")\n",
    "    with open(\"helper_functions.py\", \"wb\") as f:\n",
    "        import requests\n",
    "        request = requests.get(\"https://raw.githubusercontent.com/mrdbourke/pytorch-deep-learning/main/helper_functions.py\")\n",
    "        f.write(request.content)\n",
    "    from helper_functions import plot_loss_curves\n",
    "\n",
    "# Plot the loss curves of our model\n",
    "plot_loss_curves(results)"
   ],
   "metadata": {
    "id": "LgSgQvkw6K9m"
   },
   "outputs": [],
   "execution_count": null
  },
  {
   "cell_type": "markdown",
   "source": [
    "Those are some excellent looking loss curves!\n",
    "\n",
    "It looks like the loss for both datasets (train and test) is heading in the right direction.\n",
    "\n",
    "The same with the accuracy values, trending upwards.\n",
    "\n",
    "That goes to show the power of **transfer learning**. Using a pretrained model often leads to pretty good results with a small amount of data in less time.\n"
   ],
   "metadata": {
    "id": "ulxFMIsEW8Wa"
   }
  },
  {
   "cell_type": "markdown",
   "source": [
    "## 7. Make predictions on images from the test set\n",
    "\n",
    "It looks like our model performs well quantitatively but how about qualitatively?\n",
    "\n",
    "Let's find out by making some predictions with our model on images from the test set (these aren't seen during training) and plotting them.\n",
    "\n",
    "*Visualize, visualize, visualize!*\n",
    "\n",
    "One thing we'll have to remember is that for our model to make predictions on an image, the image has to be in *same* format as the images our model was trained on.\n",
    "\n",
    "This means we'll need to make sure our images have:\n",
    "* **Same shape** - If our images are different shapes to what our model was trained on, we'll get shape errors.\n",
    "* **Same datatype** - If our images are a different datatype (e.g. `torch.int8` vs. `torch.float32`) we'll get datatype errors.\n",
    "* **Same device** - If our images are on a different device to our model, we'll get device errors.\n",
    "* **Same transformations** - If our model is trained on images that have been transformed in certain way (e.g. normalized with a specific mean and standard deviation) and we try and make predictions on images transformed in a different way, these predictions may be off.\n",
    "\n",
    "> **Note:** These requirements go for all kinds of data if you're trying to make predictions with a trained model. Data you'd like to predict on should be in the same format as your model was trained on.\n",
    "\n",
    "To do all of this, we'll create a function `pred_and_plot_image()` to:\n",
    "\n",
    "1. Take in a trained model, a list of class names, a filepath to a target image, an image size, a transform and a target device.\n",
    "2. Open an image with [`PIL.Image.open()`](https://pillow.readthedocs.io/en/stable/reference/Image.html#PIL.Image.open).\n",
    "3. Create a transform for the image (this will default to the `manual_transforms` we created above or it could use a transform generated from `weights.transforms()`).\n",
    "4. Make sure the model is on the target device.\n",
    "5. Turn on model eval mode with `model.eval()` (this turns off layers like `nn.Dropout()`, so they aren't used for inference) and the inference mode context manager.\n",
    "6. Transform the target image with the transform made in step 3 and add an extra batch dimension with `torch.unsqueeze(dim=0)` so our input image has shape `[batch_size, color_channels, height, width]`.\n",
    "7. Make a prediction on the image by passing it to the model ensuring it's on the target device.\n",
    "8. Convert the model's output logits to prediction probabilities with `torch.softmax()`.\n",
    "9. Convert model's prediction probabilities to prediction labels with `torch.argmax()`.\n",
    "10. Plot the image with `matplotlib` and set the title to the prediction label from step 9 and prediction probability from step 8."
   ],
   "metadata": {
    "id": "d5QlOWKqXGLz"
   }
  },
  {
   "cell_type": "code",
   "source": [
    "from typing import List, Tuple\n",
    "\n",
    "from PIL import Image\n",
    "\n",
    "# 1. Take in a trained model, class names, image path, image size, a transform and target device\n",
    "def pred_and_plot_image(model: torch.nn.Module,\n",
    "                        image_path: str,\n",
    "                        class_names: List[str],\n",
    "                        image_size: Tuple[int, int] = (224, 224),\n",
    "                        transform: torchvision.transforms = None,\n",
    "                        device: torch.device=device):\n",
    "\n",
    "\n",
    "    # 2. Open image\n",
    "    img = Image.open(image_path)\n",
    "\n",
    "    # 3. Create transformation for image (if one doesn't exist)\n",
    "    if transform is not None:\n",
    "        image_transform = transform\n",
    "    else:\n",
    "        image_transform = transforms.Compose([\n",
    "            transforms.Resize(image_size),\n",
    "            transforms.ToTensor(),\n",
    "            transforms.Normalize(mean=[0.485, 0.456, 0.406],\n",
    "                                 std=[0.229, 0.224, 0.225]),\n",
    "        ])\n",
    "\n",
    "    ### Predict on image ###\n",
    "\n",
    "    # 4. Make sure the model is on the target device\n",
    "    model.to(device)\n",
    "\n",
    "    # 5. Turn on model evaluation mode and inference mode\n",
    "    model.eval()\n",
    "    with torch.inference_mode():\n",
    "      # 6. Transform and add an extra dimension to image (model requires samples in [batch_size, color_channels, height, width])\n",
    "      transformed_image = image_transform(img).unsqueeze(dim=0)\n",
    "\n",
    "      # 7. Make a prediction on image with an extra dimension and send it to the target device\n",
    "      target_image_pred = model(transformed_image.to(device))\n",
    "\n",
    "    # 8. Convert logits -> prediction probabilities (using torch.softmax() for multi-class classification)\n",
    "    target_image_pred_probs = torch.softmax(target_image_pred, dim=1)\n",
    "\n",
    "    # 9. Convert prediction probabilities -> prediction labels\n",
    "    target_image_pred_label = torch.argmax(target_image_pred_probs, dim=1)\n",
    "\n",
    "    # 10. Plot image with predicted label and probability\n",
    "    plt.figure()\n",
    "    plt.imshow(img)\n",
    "    plt.title(f\"Pred: {class_names[target_image_pred_label]} | Prob: {target_image_pred_probs.max():.3f}\")\n",
    "    plt.axis(False);"
   ],
   "metadata": {
    "id": "YLVxiztw6Mor"
   },
   "outputs": [],
   "execution_count": null
  },
  {
   "cell_type": "code",
   "source": [
    "# Get a random list of image paths from test set\n",
    "import random\n",
    "num_images_to_plot = 3\n",
    "test_image_path_list = list(Path(test_dir).glob(\"*/*.jpg\")) # get list all image paths from test data\n",
    "test_image_path_sample = random.sample(population=test_image_path_list, # go through all of the test image paths\n",
    "                                       k=num_images_to_plot) # randomly select 'k' image paths to pred and plot\n",
    "\n",
    "# Make predictions on and plot the images\n",
    "for image_path in test_image_path_sample:\n",
    "    pred_and_plot_image(model=model,\n",
    "                        image_path=image_path,\n",
    "                        class_names=class_names,\n",
    "                        # transform=weights.transforms(), # optionally pass in a specified transform from our pretrained model weights\n",
    "                        image_size=(224, 224))"
   ],
   "metadata": {
    "id": "f7Mnc3cE6ZTB"
   },
   "outputs": [],
   "execution_count": null
  },
  {
   "cell_type": "markdown",
   "source": [
    "## Main takeaways\n",
    "* **Transfer learning** often allows you to get good results with a relatively small amount of custom data.\n",
    "* Knowing the power of transfer learning, it's a good idea to ask at the start of every problem, \"does an existing well-performing model exist for my problem?\"\n",
    "* When using a pretrained model, it's important that your custom data be formatted/preprocessed in the same way that the original model was trained on, otherwise you may get degraded performance.\n",
    "* The same goes for predicting on custom data, ensure your custom data is in the same format as the data your model was trained on."
   ],
   "metadata": {
    "id": "A1ziGw4kXSB8"
   }
  },
  {
   "cell_type": "code",
   "source": [],
   "metadata": {
    "id": "HDx158EfXYmh"
   },
   "outputs": [],
   "execution_count": null
  }
 ]
}
