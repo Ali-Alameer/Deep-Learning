{
  "cells": [
    {
      "cell_type": "markdown",
      "metadata": {
        "colab_type": "text",
        "id": "view-in-github"
      },
      "source": [
        "<a href=\"https://colab.research.google.com/github/Ali-Alameer/Deep-Learning/blob/main/week10_tracking_Anything_with_DEVA.ipynb\" target=\"_parent\"><img src=\"https://colab.research.google.com/assets/colab-badge.svg\" alt=\"Open In Colab\"/></a>"
      ]
    },
    {
      "cell_type": "markdown",
      "metadata": {
        "id": "i0DY61Y3kEqu"
      },
      "source": [
        "![titlecard](https://imgur.com/lw15BGH.png)\n",
        "\n",
        "# DEVA: Tracking Anything with Decoupled Video Segmentation\n",
        "\n",
        "[Ho Kei Cheng](https://hkchengrex.github.io/), [Seoung Wug Oh](https://sites.google.com/view/seoungwugoh/), [Brian Price](https://www.brianpricephd.com/), [Alexander Schwing](https://www.alexander-schwing.de/), [Joon-Young Lee](https://joonyoung-cv.github.io/)\n",
        "\n",
        "University of Illinois Urbana-Champaign and Adobe\n",
        "\n",
        "ICCV 2023\n",
        "\n",
        "[[arXiv]](https://arxiv.org/abs/2309.03903) [[PDF]](https://arxiv.org/pdf/2309.03903.pdf) [[Project Page]](https://hkchengrex.github.io/Tracking-Anything-with-DEVA/) [[Github]](https://github.com/hkchengrex/Tracking-Anything-with-DEVA)\n",
        "\n",
        "---\n",
        "\n",
        "## Use GPU Acceleration\n",
        "\n",
        "If you are running this notebook in Google Colab, navigate to `Edit` -> `Notebook settings` -> `Hardware accelerator`, set it to `GPU`, and then click `Save`. This will ensure your notebook uses a GPU, which will significantly speed up model inference times."
      ]
    },
    {
      "cell_type": "markdown",
      "metadata": {
        "id": "lhpqQ3AVYQh7"
      },
      "source": [
        "## Before you start\n",
        "\n",
        "Let's make sure that we have access to GPU. We can use `nvidia-smi` command to do that. In case of any problems navigate to `Edit` -> `Notebook settings` -> `Hardware accelerator`, set it to `GPU`, and then click `Save`."
      ]
    },
    {
      "cell_type": "code",
      "execution_count": null,
      "metadata": {
        "id": "p3VXMWUdVy4M"
      },
      "outputs": [],
      "source": [
        "!nvidia-smi"
      ]
    },
    {
      "cell_type": "markdown",
      "metadata": {
        "id": "AIcGNEx3YmKx"
      },
      "source": [
        "**NOTE:** To make it easier for us to manage datasets, images and models we create a `HOME` constant."
      ]
    },
    {
      "cell_type": "code",
      "execution_count": null,
      "metadata": {
        "id": "-ipjkvtAYSiR"
      },
      "outputs": [],
      "source": [
        "import os\n",
        "HOME = os.getcwd()\n",
        "print(\"HOME:\", HOME)\n",
        "\n",
        "# temporary fix for some weird locale bug\n",
        "import locale\n",
        "locale.getpreferredencoding = lambda: \"UTF-8\""
      ]
    },
    {
      "cell_type": "markdown",
      "metadata": {
        "id": "s3VuH-MxY5ls"
      },
      "source": [
        "## Install Grounding DINO and Segment Anything Model\n",
        "\n",
        "We use grounded segment anything as our image model. It consists of two components: [Grounding DINO](https://github.com/IDEA-Research/GroundingDINO) - for zero-shot detection and [Segment Anything Model (SAM)](https://github.com/facebookresearch/segment-anything) - for converting boxes into segmentations. We have to install them first.\n",
        "\n",
        "We install our fork of grounded segment anything which comes with a minor bug fix.\n"
      ]
    },
    {
      "cell_type": "code",
      "execution_count": null,
      "metadata": {
        "id": "mnlQNpMpwaP3"
      },
      "outputs": [],
      "source": [
        "%cd {HOME}\n",
        "!git clone https://github.com/hkchengrex/Grounded-Segment-Anything\n",
        "%env CUDA_HOME=/usr/local/cuda\n",
        "%env BUILD_WITH_CUDA=True\n",
        "%env AM_I_DOCKER=False\n",
        "%cd {HOME}/Grounded-Segment-Anything\n",
        "!pip uninstall -y GroundingDINO\n",
        "!pip install -e GroundingDINO\n",
        "!pip install -q -e segment_anything"
      ]
    },
    {
      "cell_type": "markdown",
      "metadata": {
        "id": "IHB-qBASe294"
      },
      "source": [
        "<font color='red' size=16>Please restart: Runtime -> Restart Runtime</font>"
      ]
    },
    {
      "cell_type": "markdown",
      "metadata": {
        "id": "HGmVsCSDUxHT"
      },
      "source": [
        "## Make sure GroundingDINO has been installed properly.\n",
        "## If this does not work, **Runtime -> Restart Runtime and try again**"
      ]
    },
    {
      "cell_type": "code",
      "execution_count": null,
      "metadata": {
        "id": "r_gNYrYYjToa"
      },
      "outputs": [],
      "source": [
        "import os\n",
        "HOME = os.getcwd()\n",
        "print(\"HOME:\", HOME)\n",
        "\n",
        "# temporary fix for some weird locale bug\n",
        "import locale\n",
        "locale.getpreferredencoding = lambda: \"UTF-8\""
      ]
    },
    {
      "cell_type": "code",
      "execution_count": null,
      "metadata": {
        "id": "IB78VE7xUxZ_"
      },
      "outputs": [],
      "source": [
        "# either one of these should work\n",
        "%cd {HOME}\n",
        "try:\n",
        "  import groundingdino\n",
        "  from groundingdino.util.inference import Model as GroundingDINOModel\n",
        "except ImportError:\n",
        "  import GroundingDINO\n",
        "  from GroundingDINO.groundingdino.util.inference import Model as GroundingDINOModel"
      ]
    },
    {
      "cell_type": "markdown",
      "metadata": {
        "id": "U08MXHCEluJR"
      },
      "source": [
        "Then we install [DEVA](https://github.com/hkchengrex/Tracking-Anything-with-DEVA)."
      ]
    },
    {
      "cell_type": "code",
      "execution_count": null,
      "metadata": {
        "id": "QevJDQsuu492"
      },
      "outputs": [],
      "source": [
        "%cd {HOME}\n",
        "!git clone https://github.com/hkchengrex/Tracking-Anything-with-DEVA\n",
        "%cd {HOME}/Tracking-Anything-with-DEVA\n",
        "!pip install -q -e ."
      ]
    },
    {
      "cell_type": "markdown",
      "metadata": {
        "id": "GGV-pHiDgZs8"
      },
      "source": [
        "### Download Model Weights\n",
        "\n",
        "We need a few model weights for all of these to work. Below is a simplified download script from DEVA."
      ]
    },
    {
      "cell_type": "code",
      "execution_count": null,
      "metadata": {
        "id": "qtMIfEt4gdUX"
      },
      "outputs": [],
      "source": [
        "%cd {HOME}/Tracking-Anything-with-DEVA\n",
        "!wget -q -P ./saves/ https://github.com/hkchengrex/Tracking-Anything-with-DEVA/releases/download/v1.0/DEVA-propagation.pth\n",
        "!wget -q -P ./saves/ https://github.com/IDEA-Research/GroundingDINO/releases/download/v0.1.0-alpha/groundingdino_swint_ogc.pth\n",
        "!wget -q -P ./saves/ https://dl.fbaipublicfiles.com/segment_anything/sam_vit_h_4b8939.pth\n",
        "!wget -q -P ./saves/ https://github.com/hkchengrex/Tracking-Anything-with-DEVA/releases/download/v1.0/GroundingDINO_SwinT_OGC.py"
      ]
    },
    {
      "cell_type": "markdown",
      "metadata": {
        "id": "ByAcxA43a484"
      },
      "source": [
        "## Initializing general stuff for DEVA and getting default parameters\n",
        "\n"
      ]
    },
    {
      "cell_type": "code",
      "execution_count": null,
      "metadata": {
        "id": "xJzLz7oUZ0e6"
      },
      "outputs": [],
      "source": [
        "%cd {HOME}/Tracking-Anything-with-DEVA\n",
        "\n",
        "import os\n",
        "from os import path\n",
        "from argparse import ArgumentParser\n",
        "\n",
        "import torch\n",
        "import numpy as np\n",
        "\n",
        "from deva.model.network import DEVA\n",
        "from deva.inference.inference_core import DEVAInferenceCore\n",
        "from deva.inference.result_utils import ResultSaver\n",
        "from deva.inference.eval_args import add_common_eval_args, get_model_and_config\n",
        "from deva.inference.demo_utils import flush_buffer\n",
        "from deva.ext.ext_eval_args import add_ext_eval_args, add_text_default_args\n",
        "from deva.ext.grounding_dino import get_grounding_dino_model\n",
        "from deva.ext.with_text_processor import process_frame_with_text as process_frame\n",
        "\n",
        "from tqdm import tqdm\n",
        "import json\n",
        "\n",
        "torch.autograd.set_grad_enabled(False)\n",
        "\n",
        "# for id2rgb\n",
        "np.random.seed(42)\n",
        "\n",
        "# default parameters\n",
        "parser = ArgumentParser()\n",
        "add_common_eval_args(parser)\n",
        "add_ext_eval_args(parser)\n",
        "add_text_default_args(parser)\n",
        "\n",
        "# load model and config\n",
        "args = parser.parse_args([])\n",
        "cfg = vars(args)\n",
        "cfg['enable_long_term'] = True\n",
        "\n",
        "# Load our checkpoint\n",
        "deva_model = DEVA(cfg).cuda().eval()\n",
        "if args.model is not None:\n",
        "    model_weights = torch.load(args.model)\n",
        "    deva_model.load_weights(model_weights)\n",
        "else:\n",
        "    print('No model loaded.')\n",
        "\n",
        "gd_model, sam_model = get_grounding_dino_model(cfg, 'cuda')"
      ]
    },
    {
      "cell_type": "markdown",
      "metadata": {
        "id": "98JPP_icc5hx"
      },
      "source": [
        "### Set hyperparameters\n",
        "\n",
        "Default values should generally work fine. See https://github.com/hkchengrex/Tracking-Anything-with-DEVA/blob/main/docs/DEMO.md for some explanation of these parameters."
      ]
    },
    {
      "cell_type": "code",
      "execution_count": null,
      "metadata": {
        "id": "odl3HAdWc5Gz"
      },
      "outputs": [],
      "source": [
        "cfg['enable_long_term_count_usage'] = True\n",
        "cfg['max_num_objects'] = 50\n",
        "cfg['size'] = 480\n",
        "cfg['DINO_THRESHOLD'] = 0.35\n",
        "cfg['amp'] = True\n",
        "cfg['chunk_size'] = 4\n",
        "cfg['detection_every'] = 5\n",
        "cfg['max_missed_detection_count'] = 10\n",
        "cfg['sam_variant'] = 'original'\n",
        "cfg['temporal_setting'] = 'online' # semionline usually works better; but online is faster for this demo\n",
        "cfg['pluralize'] = True"
      ]
    },
    {
      "cell_type": "markdown",
      "metadata": {
        "id": "9GaaZzF0jseo"
      },
      "source": [
        "## Download Example Data\n",
        "\n",
        "Let's download an example video. Feel free to replace the video with yours. All you have to do is upload them to the `{HOME}/data` directory."
      ]
    },
    {
      "cell_type": "code",
      "execution_count": null,
      "metadata": {
        "id": "3L6S4MeLLTfS"
      },
      "outputs": [],
      "source": [
        "f\"{HOME}/data\""
      ]
    },
    {
      "cell_type": "code",
      "execution_count": null,
      "metadata": {
        "id": "XB-oJV2Gj6pX"
      },
      "outputs": [],
      "source": [
        "!mkdir -p {HOME}/data\n",
        "%cd {HOME}/data\n",
        "\n",
        "!wget -q -O example.mp4 https://user-images.githubusercontent.com/7107196/265518886-e5f6df87-9fd0-4178-8490-00c4b8dc613b.mp4"
      ]
    },
    {
      "cell_type": "markdown",
      "metadata": {
        "id": "1euQGJ3ZG32x"
      },
      "source": [
        "## Specifying all the inputs and output directory"
      ]
    },
    {
      "cell_type": "code",
      "execution_count": null,
      "metadata": {
        "id": "gCtHvuKoGa5_"
      },
      "outputs": [],
      "source": [
        "SOURCE_VIDEO_PATH = f\"{HOME}/data/example.mp4\"\n",
        "CLASSES = ['person', 'hat', 'horse']\n",
        "cfg['DINO_THRESHOLD'] = 0.5\n",
        "OUTPUT_VIDEO_PATH = f\"{HOME}/data/example_output.webm\""
      ]
    },
    {
      "cell_type": "markdown",
      "metadata": {
        "id": "nrLU7SWFdGcA"
      },
      "source": [
        "## Running DEVA"
      ]
    },
    {
      "cell_type": "code",
      "execution_count": null,
      "metadata": {
        "id": "LoD2bIptG-qO"
      },
      "outputs": [],
      "source": [
        "%cd {HOME}/Tracking-Anything-with-DEVA\n",
        "\n",
        "from deva.ext.with_text_processor import process_frame_with_text as process_frame_text\n",
        "import tempfile\n",
        "import cv2\n",
        "\n",
        "cfg['prompt'] = '.'.join(CLASSES)\n",
        "\n",
        "deva = DEVAInferenceCore(deva_model, config=cfg)\n",
        "deva.next_voting_frame = cfg['num_voting_frames'] - 1\n",
        "deva.enabled_long_id()\n",
        "\n",
        "# obtain temporary directory\n",
        "result_saver = ResultSaver(None, None, dataset='gradio', object_manager=deva.object_manager)\n",
        "writer_initizied = False\n",
        "\n",
        "cap = cv2.VideoCapture(SOURCE_VIDEO_PATH)\n",
        "fps = cap.get(cv2.CAP_PROP_FPS)\n",
        "ti = 0\n",
        "# only an estimate\n",
        "with torch.cuda.amp.autocast(enabled=cfg['amp']):\n",
        "    with tqdm(total=int(cap.get(cv2.CAP_PROP_FRAME_COUNT))) as pbar:\n",
        "        while (cap.isOpened()):\n",
        "            ret, frame = cap.read()\n",
        "            if ret == True:\n",
        "                if not writer_initizied:\n",
        "                    h, w = frame.shape[:2]\n",
        "                    writer = cv2.VideoWriter(OUTPUT_VIDEO_PATH, cv2.VideoWriter_fourcc(*'vp80'), fps, (w, h))\n",
        "                    writer_initizied = True\n",
        "                    result_saver.writer = writer\n",
        "\n",
        "                process_frame_text(deva,\n",
        "                                    gd_model,\n",
        "                                    sam_model,\n",
        "                                    'null.png',\n",
        "                                    result_saver,\n",
        "                                    ti,\n",
        "                                    image_np=frame)\n",
        "                ti += 1\n",
        "                pbar.update(1)\n",
        "            else:\n",
        "                break\n",
        "    flush_buffer(deva, result_saver)\n",
        "writer.release()\n",
        "cap.release()\n",
        "deva.clear_buffer()"
      ]
    },
    {
      "cell_type": "markdown",
      "metadata": {
        "id": "NR7WUBF1t0l5"
      },
      "source": [
        "## Play the output video"
      ]
    },
    {
      "cell_type": "code",
      "execution_count": null,
      "metadata": {
        "id": "itepE4L3tz6Y"
      },
      "outputs": [],
      "source": [
        "from IPython.display import HTML\n",
        "from base64 import b64encode\n",
        "webm = open(OUTPUT_VIDEO_PATH,'rb').read()\n",
        "data_url = \"data:video/webm;base64,\" + b64encode(webm).decode()\n",
        "HTML(\"\"\"\n",
        "<video width=720 controls>\n",
        "      <source src=\"%s\" type=\"video/webm\">\n",
        "</video>\n",
        "\"\"\" % data_url)"
      ]
    }
  ],
  "metadata": {
    "accelerator": "GPU",
    "colab": {
      "include_colab_link": true,
      "provenance": []
    },
    "gpuClass": "standard",
    "kernelspec": {
      "display_name": "Python 3",
      "name": "python3"
    },
    "language_info": {
      "name": "python"
    }
  },
  "nbformat": 4,
  "nbformat_minor": 0
}
