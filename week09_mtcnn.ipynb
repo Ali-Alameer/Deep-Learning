{
  "cells": [
    {
      "cell_type": "markdown",
      "metadata": {
        "id": "view-in-github",
        "colab_type": "text"
      },
      "source": [
        "<a href=\"https://colab.research.google.com/github/Ali-Alameer/Deep-Learning/blob/main/week9_mtcnn.ipynb\" target=\"_parent\"><img src=\"https://colab.research.google.com/assets/colab-badge.svg\" alt=\"Open In Colab\"/></a>"
      ]
    },
    {
      "cell_type": "markdown",
      "metadata": {
        "id": "ioKV1_rR27RK"
      },
      "source": [
        "# MTCNN face extraction\n",
        "including mouth, face and eyes\n"
      ]
    },
    {
      "cell_type": "code",
      "execution_count": null,
      "metadata": {
        "id": "Ml2kGPMP3K0M"
      },
      "outputs": [],
      "source": [
        "!pip install mtcnn"
      ]
    },
    {
      "cell_type": "code",
      "execution_count": null,
      "metadata": {
        "id": "L_8e0eSj27RM"
      },
      "outputs": [],
      "source": [
        "# confirm mtcnn was installed correctly\n",
        "import numpy as np\n",
        "import mtcnn\n",
        "import cv2\n",
        "# print version\n",
        "print(mtcnn.__version__)"
      ]
    },
    {
      "cell_type": "code",
      "execution_count": null,
      "metadata": {
        "id": "vnqbPGd_xQ94"
      },
      "outputs": [],
      "source": [
        "# Download a sample image\n",
        "\n",
        "import requests\n",
        "\n",
        "url = \"https://media-cldnry.s-nbcnews.com/image/upload/t_fit-760w,f_auto,q_auto:best/rockcms/2023-05/230510-donald-trump-town-hall-cnn-ac-1016p-97a400.jpg\"\n",
        "filename = \"image1.jpg\"\n",
        "\n",
        "response = requests.get(url)\n",
        "response.raise_for_status()  # Check if the request was successful\n",
        "\n",
        "with open(filename, \"wb\") as file:\n",
        "    file.write(response.content)\n",
        "\n",
        "print(\"Image downloaded successfully.\")"
      ]
    },
    {
      "cell_type": "code",
      "execution_count": null,
      "metadata": {
        "id": "f8xPBa1J27RN"
      },
      "outputs": [],
      "source": [
        "!ls"
      ]
    },
    {
      "cell_type": "code",
      "execution_count": null,
      "metadata": {
        "id": "bDZiV8lb27RO"
      },
      "outputs": [],
      "source": [
        "import matplotlib.pyplot as plt\n",
        "# load image from file\n",
        "filename = \"image1.jpg\" # an image with a face in the directory\n",
        "pixels = plt.imread(filename)\n",
        "print(\"Shape of image/array:\",pixels.shape)\n",
        "imgplot = plt.imshow(pixels)\n",
        "plt.show()"
      ]
    },
    {
      "cell_type": "code",
      "execution_count": null,
      "metadata": {
        "id": "WFXn4nM_27RO",
        "scrolled": true
      },
      "outputs": [],
      "source": [
        "detector = mtcnn.MTCNN()\n",
        "# detect faces in the image\n",
        "faces = detector.detect_faces(pixels)\n",
        "for face in faces:\n",
        "    print(face)"
      ]
    },
    {
      "cell_type": "code",
      "execution_count": null,
      "metadata": {
        "id": "a2F-Dx5C27RP",
        "scrolled": true
      },
      "outputs": [],
      "source": [
        "# draw an image with detected objects\n",
        "def draw_facebox(filename, result_list):\n",
        "    # load the image\n",
        "    data = plt.imread(filename)\n",
        "    # plot the image\n",
        "    plt.imshow(data)\n",
        "    # get the context for drawing boxes\n",
        "    ax = plt.gca()\n",
        "    # plot each box\n",
        "    for result in result_list:\n",
        "        # get coordinates\n",
        "        x, y, width, height = result['box']\n",
        "        # create the shape\n",
        "        rect = plt.Rectangle((x, y), width, height, fill=False, color='orange')\n",
        "        # draw the box\n",
        "        ax.add_patch(rect)\n",
        "    # show the plot\n",
        "    plt.show()\n",
        "\n",
        "# filename = 'test1.jpg' # filename is defined above, otherwise uncomment\n",
        "# load image from file\n",
        "# pixels = plt.imread(filename) # defined above, otherwise uncomment\n",
        "# detector is defined above, otherwise uncomment\n",
        "#detector = mtcnn.MTCNN()\n",
        "# detect faces in the image\n",
        "faces = detector.detect_faces(pixels)\n",
        "# display faces on the original image\n",
        "draw_facebox(filename, faces)"
      ]
    },
    {
      "cell_type": "code",
      "execution_count": null,
      "metadata": {
        "id": "JA92eX1v27RP"
      },
      "outputs": [],
      "source": [
        "# draw an image with detected objects\n",
        "def draw_facebox(filename, result_list):\n",
        "    # load the image\n",
        "    data = plt.imread(filename)\n",
        "    # plot the image\n",
        "    plt.imshow(data)\n",
        "    # get the context for drawing boxes\n",
        "    ax = plt.gca()\n",
        "    # plot each box\n",
        "    for result in result_list:\n",
        "        # get coordinates\n",
        "        x, y, width, height = result['box']\n",
        "        # create the shape\n",
        "        rect = plt.Rectangle((x, y), width, height,fill=False, color='orange')\n",
        "        # draw the box\n",
        "        ax.add_patch(rect)\n",
        "        # draw the dots\n",
        "        for key, value in result['keypoints'].items():\n",
        "            # create and draw dot\n",
        "            dot = plt.Circle(value, radius=20, color='red')\n",
        "            ax.add_patch(dot)\n",
        "            # show the plot\n",
        "        plt.show()\n",
        "\n",
        "# filename = 'test1.jpg' # filename is defined above, otherwise uncomment\n",
        "# load image from file\n",
        "# pixels = plt.imread(filename) # defined above, otherwise uncomment\n",
        "# detector is defined above, otherwise uncomment\n",
        "#detector = mtcnn.MTCNN()\n",
        "# detect faces in the image\n",
        "faces = detector.detect_faces(pixels)\n",
        "# display faces on the original image\n",
        "draw_facebox(filename, faces)"
      ]
    }
  ],
  "metadata": {
    "colab": {
      "provenance": [],
      "include_colab_link": true
    },
    "kernelspec": {
      "display_name": "Python 3",
      "language": "python",
      "name": "python3"
    },
    "language_info": {
      "codemirror_mode": {
        "name": "ipython",
        "version": 3
      },
      "file_extension": ".py",
      "mimetype": "text/x-python",
      "name": "python",
      "nbconvert_exporter": "python",
      "pygments_lexer": "ipython3",
      "version": "3.7.4"
    }
  },
  "nbformat": 4,
  "nbformat_minor": 0
}